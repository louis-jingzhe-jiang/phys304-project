{
 "cells": [
  {
   "cell_type": "code",
   "execution_count": null,
   "id": "91dc8034",
   "metadata": {},
   "outputs": [],
   "source": [
    "from matplotlib import pyplot as plt\n",
    "import numpy as np"
   ]
  },
  {
   "cell_type": "markdown",
   "id": "ed30117f",
   "metadata": {},
   "source": [
    "## Neural Network Implementation"
   ]
  },
  {
   "cell_type": "markdown",
   "id": "a796dac8",
   "metadata": {},
   "source": [
    "Define several constants\n",
    "\n",
    "- `Nl` The total number of odorants\n",
    "\n",
    "- `Nr` The number of receptors\n",
    "\n",
    "- `K` The average number of odorants in the mixture\n",
    "\n",
    "- `s` The probability that an odorant binds to a receptor\n"
   ]
  },
  {
   "cell_type": "code",
   "execution_count": null,
   "id": "d92bf8d6",
   "metadata": {},
   "outputs": [],
   "source": [
    "Nl = 20\n",
    "Nr = 5\n",
    "K = 5\n",
    "s = 0.2"
   ]
  },
  {
   "cell_type": "markdown",
   "id": "4cc894d8",
   "metadata": {},
   "source": [
    "Generate values for matrix **S** (receptor sensitivity to odorants)\n",
    "\n",
    "- Dimension for `S` is `Nr` by `Nl`.\n",
    "\n",
    "- Probability of an entry to be non-zero is `s`\n",
    "\n",
    "- The non-zero entries are log-uniformly distributed between $10^{-1}$ and $10^1$"
   ]
  },
  {
   "cell_type": "code",
   "execution_count": null,
   "id": "ebbd055a",
   "metadata": {},
   "outputs": [],
   "source": [
    "S = np.zeros((Nr, Nl), dtype=np.float64)\n",
    "random_arr = np.random.rand(Nr, Nl)\n",
    "for i in range(S.shape[0]):\n",
    "    for j in range(S.shape[1]):\n",
    "        if np.random()"
   ]
  }
 ],
 "metadata": {
  "language_info": {
   "name": "python"
  }
 },
 "nbformat": 4,
 "nbformat_minor": 5
}
