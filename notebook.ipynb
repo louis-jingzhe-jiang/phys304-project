{
 "cells": [
  {
   "cell_type": "code",
   "execution_count": 1,
   "id": "91dc8034",
   "metadata": {},
   "outputs": [],
   "source": [
    "from matplotlib import pyplot as plt\n",
    "import numpy as np"
   ]
  },
  {
   "cell_type": "markdown",
   "id": "ed30117f",
   "metadata": {},
   "source": [
    "## Neural Network Implementation"
   ]
  },
  {
   "cell_type": "markdown",
   "id": "a796dac8",
   "metadata": {},
   "source": [
    "Define several constants\n",
    "\n",
    "- `Nl` The total number of odorants\n",
    "\n",
    "- `Nr` The number of receptors\n",
    "\n",
    "- `K` The average number of odorants in the mixture\n",
    "\n",
    "- `s` The probability that an odorant binds to a receptor\n"
   ]
  },
  {
   "cell_type": "code",
   "execution_count": 2,
   "id": "d92bf8d6",
   "metadata": {},
   "outputs": [],
   "source": [
    "Nl = 20\n",
    "Nr = 5\n",
    "K = 5\n",
    "s = 0.2"
   ]
  },
  {
   "cell_type": "markdown",
   "id": "4cc894d8",
   "metadata": {},
   "source": [
    "Generate values for matrix **S** (receptor sensitivity to odorants)\n",
    "\n",
    "- Dimension for `S` is `Nr` by `Nl`.\n",
    "\n",
    "- Probability of an entry to be non-zero is `s`\n",
    "\n",
    "- The non-zero entries are log-uniformly distributed between $10^{-1}$ and $10^1$"
   ]
  },
  {
   "cell_type": "code",
   "execution_count": null,
   "id": "ebbd055a",
   "metadata": {},
   "outputs": [
    {
     "name": "stdout",
     "output_type": "stream",
     "text": [
      "[[0.         0.         2.84091765 0.         0.         0.\n",
      "  6.74082724 1.42468045 0.         0.13117096 1.4388306  0.\n",
      "  0.         0.         0.         0.         0.         0.\n",
      "  0.         0.        ]\n",
      " [0.         0.         0.         0.         0.         0.\n",
      "  0.         0.         9.98976092 0.         0.         0.\n",
      "  0.23267573 8.56843615 2.18880788 0.         0.         2.18022597\n",
      "  0.         0.25711257]\n",
      " [0.         0.         0.         0.         0.11857062 0.\n",
      "  0.         0.26852986 0.         0.         0.         0.\n",
      "  0.64878312 0.         0.         0.         0.         0.\n",
      "  0.         0.        ]\n",
      " [0.57947169 0.         0.         1.25562111 0.         0.\n",
      "  0.         0.         0.14635484 0.         0.         0.\n",
      "  0.29538883 0.         0.16284081 0.         0.         0.\n",
      "  7.69575767 0.        ]\n",
      " [0.         0.         7.73695331 0.         0.         0.26551274\n",
      "  0.         0.55477433 0.         0.         0.         0.\n",
      "  0.         8.0610238  0.         0.40147505 0.         0.\n",
      "  0.         0.        ]]\n"
     ]
    }
   ],
   "source": [
    "# CELL TESTED\n",
    "def gen_sensitivity_mat(Nr, Nl, s):\n",
    "    \"\"\"\n",
    "    Generate a sensitivity matrix with given parameters. The non-zero \n",
    "    entries are log-uniformly distributed between `10^-1` and `10^1`\n",
    "\n",
    "    Args:\n",
    "        Nr (int): The number of receptors\n",
    "        Nl (int): The total number of odorants\n",
    "        s (float): The probability that an odorant binds to a receptor\n",
    "\n",
    "    Returns:\n",
    "        The sensitivity matrix\n",
    "    \"\"\"\n",
    "    S = np.zeros((Nr, Nl), dtype=np.float64)\n",
    "    sensitive = np.random.rand(Nr, Nl) # used for determine whether S_ij is zero or not\n",
    "    dist = (np.random.rand(Nr, Nl) - 0.5) * 2 # distribution for non-zero entries\n",
    "    for i in range(S.shape[0]):\n",
    "        for j in range(S.shape[1]):\n",
    "            if sensitive[i, j] < s:\n",
    "                S[i, j] = 10 ** dist[i, j]\n",
    "    return S"
   ]
  },
  {
   "cell_type": "code",
   "execution_count": null,
   "id": "5ca147cc",
   "metadata": {},
   "outputs": [],
   "source": []
  }
 ],
 "metadata": {
  "kernelspec": {
   "display_name": "ml",
   "language": "python",
   "name": "python3"
  },
  "language_info": {
   "codemirror_mode": {
    "name": "ipython",
    "version": 3
   },
   "file_extension": ".py",
   "mimetype": "text/x-python",
   "name": "python",
   "nbconvert_exporter": "python",
   "pygments_lexer": "ipython3",
   "version": "3.12.2"
  }
 },
 "nbformat": 4,
 "nbformat_minor": 5
}
