{
 "cells": [
  {
   "cell_type": "code",
   "execution_count": 1,
   "id": "91dc8034",
   "metadata": {},
   "outputs": [],
   "source": [
    "from matplotlib import pyplot as plt\n",
    "import numpy as np"
   ]
  },
  {
   "cell_type": "markdown",
   "id": "a796dac8",
   "metadata": {},
   "source": [
    "Definition of constants\n",
    "\n",
    "- `Nl` The total number of odorants\n",
    "\n",
    "- `Nr` The number of receptors\n",
    "\n",
    "- `K` The average number of odorants in the mixture\n",
    "\n",
    "- `s` The probability that an odorant binds to a receptor\n"
   ]
  },
  {
   "cell_type": "code",
<<<<<<< HEAD
   "execution_count": 106,
=======
   "execution_count": 2,
>>>>>>> 6b7ed25060b0eff096f4a96fbb905f4d008ccc9f
   "id": "d92bf8d6",
   "metadata": {},
   "outputs": [],
   "source": [
    "class BinaryEliminationSystem:\n",
    "\n",
    "    ss_mat = None # Sparse Sensing Matrix\n",
    "    ss_mat_index = None\n",
    "    nl:int = 0 # total number of odorants\n",
    "    nr:int = 0 # number of receptors\n",
    "    k:int = 0 # average number of odorants in mixture\n",
    "    s:float = 0 # probability that an odorant binds to a receptor\n",
    "    odor_mat = None # generated odor inputs matrix (column major)\n",
    "    rr = None; # receptor response matrix (column major)\n",
    "    pred_odor_mat = None # predicted odor inputs (column major)\n",
    "\n",
    "\n",
    "    def __init__(self, nl, nr, k, s):\n",
    "        self.nl = nl\n",
    "        self.nr = nr\n",
    "        self.k = k\n",
    "        self.s = s\n",
    "        self.generate_ss_mat()\n",
    "\n",
    "\n",
    "    def generate_ss_mat(self):\n",
    "        \"\"\"\n",
    "        Generate a new sparce sensing matrix\n",
    "        Args: \n",
    "        \n",
    "        Returns:\n",
    "            out (None): None\n",
    "        \"\"\"\n",
    "        self.ss_mat = np.zeros((self.nr, self.nl), dtype=np.uint8)\n",
    "        self.ss_mat_index = [[] for i in range(self.nr)]\n",
    "        value = np.random.random((self.nr, self.nl)) < self.s\n",
    "        for i in range(self.nr):\n",
    "            for j in range(self.nl):\n",
    "                if value[i, j]:\n",
    "                    self.ss_mat[i, j] = 1;\n",
    "                    self.ss_mat_index[i].append(j)\n",
    "    \n",
    "\n",
    "    def __generate_rand_odor(self, count):\n",
    "        \"\"\"\n",
    "        Generate some odor vectors. Dimension of self.odor_mat will be (nl by count)\n",
    "        Args: \n",
    "            count: Number of odor vectors to generate\n",
    "        Returns:\n",
    "            out (None): none\n",
    "        \"\"\"\n",
    "        self.odor_mat = np.zeros((self.nl, count))\n",
    "        for j in range(count):\n",
    "            chosen = np.random.choice(self.nl, size=self.k, replace=False)\n",
    "            for i in range(chosen.size):\n",
    "                self.odor_mat[chosen[i], j] = 1\n",
    "        \n",
    "    \n",
    "    def __get_rr(self):\n",
    "        \"\"\"\n",
    "        Calculate the receptor response\n",
    "        Args: \n",
    "            \n",
    "        Returns:\n",
    "            out (None): none\n",
    "        \"\"\"\n",
    "        self.rr = np.dot(self.ss_mat, self.odor_mat)\n",
    "\n",
    "\n",
    "    def encode_decode(self, count):\n",
    "        \"\"\"\n",
    "        Calculate the receptor response\n",
    "        Args: \n",
    "            \n",
    "        Returns:\n",
    "            out (None): none\n",
    "        \"\"\"\n",
    "        self.__generate_rand_odor(count)\n",
    "        self.__get_rr()\n",
    "        self.pred_odor_mat = np.ones((self.nl, count), dtype=np.uint8)\n",
    "        inactive_receptors = np.where(self.rr == 0)\n",
    "        for i in range(len(inactive_receptors[0])):\n",
    "            column = inactive_receptors[1][i]\n",
    "            entry = inactive_receptors[0][i]\n",
    "            result = self.pred_odor_mat[:, column] & (~self.ss_mat[entry, :])\n",
    "            self.pred_odor_mat[:, column] = result.T\n",
    "\n",
    "\n",
    "    def show_result(self):\n",
    "        count = 0\n",
    "        for i in range(self.odor_mat.shape[1]):\n",
    "            if (np.array_equal(self.odor_mat.T[i, :], self.pred_odor_mat.T[i, :])):\n",
    "                count += 1\n",
    "        return count"
   ]
  },
  {
   "cell_type": "code",
   "execution_count": 109,
   "id": "732d2312",
   "metadata": {},
   "outputs": [
    {
     "name": "stdout",
     "output_type": "stream",
     "text": [
      "100\n",
      "110\n",
      "120\n",
      "130\n",
      "140\n",
      "150\n",
      "160\n"
     ]
    },
    {
     "ename": "KeyboardInterrupt",
     "evalue": "",
     "output_type": "error",
     "traceback": [
      "\u001b[31m---------------------------------------------------------------------------\u001b[39m",
      "\u001b[31mKeyboardInterrupt\u001b[39m                         Traceback (most recent call last)",
      "\u001b[36mCell\u001b[39m\u001b[36m \u001b[39m\u001b[32mIn[109]\u001b[39m\u001b[32m, line 11\u001b[39m\n\u001b[32m      9\u001b[39m \u001b[38;5;28;01mfor\u001b[39;00m i \u001b[38;5;129;01min\u001b[39;00m \u001b[38;5;28mrange\u001b[39m(\u001b[32m10\u001b[39m):\n\u001b[32m     10\u001b[39m     a.generate_ss_mat()\n\u001b[32m---> \u001b[39m\u001b[32m11\u001b[39m     a.encode_decode(\u001b[32m100\u001b[39m)\n\u001b[32m     12\u001b[39m     correct = a.show_result()\n\u001b[32m     13\u001b[39m     trial_accuracies[i] = correct / \u001b[32m100\u001b[39m\n",
      "\u001b[36mCell\u001b[39m\u001b[36m \u001b[39m\u001b[32mIn[106]\u001b[39m\u001b[32m, line 82\u001b[39m, in \u001b[36mBinaryEliminationSystem.encode_decode\u001b[39m\u001b[34m(self, count)\u001b[39m\n\u001b[32m     80\u001b[39m entry = inactive_receptors[\u001b[32m0\u001b[39m][i]\n\u001b[32m     81\u001b[39m result = \u001b[38;5;28mself\u001b[39m.pred_odor_mat[:, column] & (~\u001b[38;5;28mself\u001b[39m.ss_mat[entry, :])\n\u001b[32m---> \u001b[39m\u001b[32m82\u001b[39m \u001b[38;5;28mself\u001b[39m.pred_odor_mat[:, column] = result.T\n",
      "\u001b[31mKeyboardInterrupt\u001b[39m: "
     ]
    }
   ],
   "source": [
    "probs = []\n",
    "mean_probs = []\n",
    "errs = []\n",
    "nr_values = np.arange(100, 600, 10)\n",
    "for nr in nr_values:\n",
    "    print(nr)\n",
    "    trial_accuracies = np.zeros(10)\n",
    "    a = BinaryEliminationSystem(10000, nr, 10, 0.05)\n",
    "    for i in range(10):\n",
    "        a.generate_ss_mat()\n",
    "        a.encode_decode(100)\n",
    "        correct = a.show_result()\n",
    "        trial_accuracies[i] = correct / 100\n",
    "    mean_probs.append(np.mean(trial_accuracies))\n",
    "    errs.append(np.std(trial_accuracies))\n",
    "# Plot\n",
    "def estpc(Nr,k,s, NL):\n",
    "    alpha = k/NL\n",
    "    return (alpha+(1-alpha)*(1-(1-s*(1-s*alpha)**(NL-1))**Nr))**NL\n",
    "\n",
    "plt.plot(nr_values,estpc(nr_values,10,0.05, 10000))\n",
    "plt.errorbar(nr_values, mean_probs, yerr=errs, fmt='o', markersize=3, capsize=4)\n",
    "plt.xlabel(\"Number of Receptors (NR)\")\n",
    "plt.ylabel(\"Decoding Accuracy\")\n",
    "plt.title(\"Efficient Sparse Odor Decoding vs. Receptor Count\")\n",
    "plt.grid(True)\n",
    "plt.tight_layout()\n",
    "plt.show()"
   ]
  },
  {
   "cell_type": "markdown",
   "id": "4cc894d8",
   "metadata": {},
   "source": [
    "Generate values for matrix **S** (receptor sensitivity to odorants)\n",
    "\n",
    "- Dimension for `S` is `Nr` by `Nl`.\n",
    "\n",
    "- Probability of an entry to be non-zero is `s`\n",
    "\n",
    "- The non-zero entries are log-uniformly distributed between $10^{-1}$ and $10^1$"
   ]
  },
  {
   "cell_type": "code",
   "execution_count": null,
   "id": "ebbd055a",
   "metadata": {},
   "outputs": [
    {
     "name": "stdout",
     "output_type": "stream",
     "text": [
      "[[0.         0.         2.84091765 0.         0.         0.\n",
      "  6.74082724 1.42468045 0.         0.13117096 1.4388306  0.\n",
      "  0.         0.         0.         0.         0.         0.\n",
      "  0.         0.        ]\n",
      " [0.         0.         0.         0.         0.         0.\n",
      "  0.         0.         9.98976092 0.         0.         0.\n",
      "  0.23267573 8.56843615 2.18880788 0.         0.         2.18022597\n",
      "  0.         0.25711257]\n",
      " [0.         0.         0.         0.         0.11857062 0.\n",
      "  0.         0.26852986 0.         0.         0.         0.\n",
      "  0.64878312 0.         0.         0.         0.         0.\n",
      "  0.         0.        ]\n",
      " [0.57947169 0.         0.         1.25562111 0.         0.\n",
      "  0.         0.         0.14635484 0.         0.         0.\n",
      "  0.29538883 0.         0.16284081 0.         0.         0.\n",
      "  7.69575767 0.        ]\n",
      " [0.         0.         7.73695331 0.         0.         0.26551274\n",
      "  0.         0.55477433 0.         0.         0.         0.\n",
      "  0.         8.0610238  0.         0.40147505 0.         0.\n",
      "  0.         0.        ]]\n"
     ]
    }
   ],
   "source": [
    "# CELL TESTED\n",
    "def gen_sensitivity_mat(Nr, Nl, s):\n",
    "    \"\"\"\n",
    "    Generate a sensitivity matrix with given parameters. The non-zero \n",
    "    entries are log-uniformly distributed between `10^-1` and `10^1`\n",
    "\n",
    "    Args:\n",
    "        Nr (int): The number of receptors\n",
    "        Nl (int): The total number of odorants\n",
    "        s (float): The probability that an odorant binds to a receptor\n",
    "\n",
    "    Returns:\n",
    "        The sensitivity matrix\n",
    "    \"\"\"\n",
    "    S = np.zeros((Nr, Nl), dtype=np.float64)\n",
    "    sensitive = np.random.rand(Nr, Nl) # used for determine whether S_ij is zero or not\n",
    "    dist = (np.random.rand(Nr, Nl) - 0.5) * 2 # distribution for non-zero entries\n",
    "    for i in range(S.shape[0]):\n",
    "        for j in range(S.shape[1]):\n",
    "            if sensitive[i, j] < s:\n",
    "                S[i, j] = 10 ** dist[i, j]\n",
    "    return S"
   ]
  },
  {
   "cell_type": "code",
   "execution_count": null,
   "id": "5ca147cc",
   "metadata": {},
   "outputs": [],
   "source": []
  }
 ],
 "metadata": {
  "kernelspec": {
   "display_name": "ml",
   "language": "python",
   "name": "python3"
  },
  "language_info": {
   "codemirror_mode": {
    "name": "ipython",
    "version": 3
   },
   "file_extension": ".py",
   "mimetype": "text/x-python",
   "name": "python",
   "nbconvert_exporter": "python",
   "pygments_lexer": "ipython3",
<<<<<<< HEAD
   "version": "3.12.9"
=======
   "version": "3.12.2"
>>>>>>> 6b7ed25060b0eff096f4a96fbb905f4d008ccc9f
  }
 },
 "nbformat": 4,
 "nbformat_minor": 5
}
